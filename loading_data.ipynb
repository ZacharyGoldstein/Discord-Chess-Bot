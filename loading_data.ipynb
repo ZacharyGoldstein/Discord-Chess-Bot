{
 "cells": [
  {
   "cell_type": "code",
   "execution_count": null,
   "metadata": {},
   "outputs": [],
   "source": [
    "import pandas as pd\n",
    "import requests\n",
    "import numpy as np\n",
    "import json\n",
    "from datetime import *\n",
    "import ndjson\n",
    "import time"
   ]
  },
  {
   "cell_type": "markdown",
   "metadata": {},
   "source": [
    "## Loading Teams"
   ]
  },
  {
   "cell_type": "code",
   "execution_count": null,
   "metadata": {},
   "outputs": [],
   "source": [
    "popular_teams_url = \"https://lichess.org/api/team/all\"\n",
    "response = requests.get(popular_teams_url)\n",
    "popular_teams_json = response.json()"
   ]
  },
  {
   "cell_type": "code",
   "execution_count": null,
   "metadata": {},
   "outputs": [],
   "source": [
    "team_ids = []\n",
    "for team in popular_teams_json['currentPageResults']:\n",
    "    ID = team['id']\n",
    "    team_ids.append(ID)"
   ]
  },
  {
   "cell_type": "code",
   "execution_count": null,
   "metadata": {},
   "outputs": [],
   "source": [
    "team_ids"
   ]
  },
  {
   "cell_type": "markdown",
   "metadata": {},
   "source": [
    "## Loading Players"
   ]
  },
  {
   "cell_type": "code",
   "execution_count": null,
   "metadata": {},
   "outputs": [],
   "source": [
    "team_id = \"\"#\"lichess-swiss\"\n",
    "team_members_url = f\"https://lichess.org/api/team/{team_id}/users\"\n",
    "response = requests.get(team_members_url)\n",
    "items = response.json(cls=ndjson.Decoder)\n",
    "#df = pd.read_json(response.content,orient='records',lines=True).sort_values(\"createdAt\")\n",
    "minn_created_date = 1564341571930 # July 28 2019\n",
    "usernames = [item.get('username') for item in items if item.get('createdAt') <= minn_created_date]\n",
    "usernames[:10]"
   ]
  },
  {
   "cell_type": "code",
   "execution_count": null,
   "metadata": {},
   "outputs": [],
   "source": [
    "df_usernames = pd.DataFrame(usernames)\n",
    "#df_usernames.to_csv(\"data/lichess_swiss_users.csv\",index=False)\n",
    "df_usernames.head()"
   ]
  },
  {
   "cell_type": "markdown",
   "metadata": {},
   "source": [
    "## Loading Ratings"
   ]
  },
  {
   "cell_type": "code",
   "execution_count": null,
   "metadata": {},
   "outputs": [],
   "source": [
    "df_usernames = pd.read_csv(\"data/lichess_swiss_users.csv\")\n",
    "df_usernames.head()"
   ]
  },
  {
   "cell_type": "code",
   "execution_count": null,
   "metadata": {},
   "outputs": [],
   "source": [
    "df_usernames.shape"
   ]
  },
  {
   "cell_type": "code",
   "execution_count": null,
   "metadata": {},
   "outputs": [],
   "source": [
    "username = \"HumanSponge\"\n",
    "url = f'https://lichess.org/api/user/{username}/rating-history'"
   ]
  },
  {
   "cell_type": "code",
   "execution_count": null,
   "metadata": {},
   "outputs": [],
   "source": [
    "response = requests.get(url)"
   ]
  },
  {
   "cell_type": "code",
   "execution_count": null,
   "metadata": {},
   "outputs": [],
   "source": [
    "response.status_code"
   ]
  },
  {
   "cell_type": "code",
   "execution_count": null,
   "metadata": {},
   "outputs": [],
   "source": [
    "response_json = response.json()"
   ]
  },
  {
   "cell_type": "code",
   "execution_count": null,
   "metadata": {
    "scrolled": false
   },
   "outputs": [],
   "source": [
    "rating_histories = []\n",
    "for i in range(10074,len(df_usernames)):\n",
    "    username = df_usernames['0'].values[i]\n",
    "    if i % 2000 == 0: print(i)\n",
    "    time.sleep(.5)\n",
    "    url = f'https://lichess.org/api/user/{username}/rating-history'\n",
    "    response = requests.get(url)\n",
    "    if response.status_code != 200:\n",
    "        print(username)\n",
    "        print(response.status_code)\n",
    "        continue\n",
    "    else:\n",
    "        response_json = response.json()\n",
    "    for x in response_json:\n",
    "        time_control = x['name']\n",
    "        if time_control not in ['Bullet','Blitz','Rapid','Classical']: continue\n",
    "        data = pd.DataFrame(x['points'])\n",
    "        data['time_control'] = time_control\n",
    "        data['username'] = username\n",
    "        rating_histories.append(data)\n",
    "df = pd.concat(rating_histories,axis=0)\n",
    "df.columns = ['year','month','day','rating','time_control','username']\n",
    "df['month'] = df['month']+1\n",
    "df = df.astype(int,errors='ignore')\n",
    "df['date'] = pd.to_datetime(df.year*10000+df.month*100+df.day,format='%Y%m%d')\n",
    "ids = list(range(df['username'].nunique()))\n",
    "id_assignments = {k:v+10075 for k,v in zip(df['username'].unique(), ids)}\n",
    "df['user_id'] = df['username'].map(id_assignments)\n",
    "df = df[['user_id','time_control','date','rating']].sort_values(['user_id','time_control','date'])\n",
    "df = df[df['date']>=datetime(2019,1,1)]\n",
    "#df.to_csv(\"data/lichess_swiss_rating_histories_2.csv\",index=False)\n",
    "df.head()"
   ]
  },
  {
   "cell_type": "code",
   "execution_count": null,
   "metadata": {},
   "outputs": [],
   "source": [
    "df.sample(10)"
   ]
  },
  {
   "cell_type": "code",
   "execution_count": null,
   "metadata": {},
   "outputs": [],
   "source": [
    "df.shape"
   ]
  },
  {
   "cell_type": "markdown",
   "metadata": {},
   "source": [
    "## Features\n",
    "- Current rating (likely nonlinear relationship)\n",
    "- Rating growth in last 30 days / 90 days / 180 days\n",
    "- Rating volatility measures\n",
    "- Peak historical rating relative to current rating\n",
    "- Rating in other time controls + puzzles\n",
    "- Rating growth in other time controls + puzzles\n",
    "- Difference between other time control ratings + target time control rating\n",
    "- How long you've been on lichess\n",
    "- How many games you've played (ever, and within last 30 days)\n",
    "\n",
    "## Outcomes\n",
    "- Will you ever achieve a rating that's X rating points higher than your current rating in the next Y months (X is calculated from target rating submitted by user, Y = 24?)\n",
    "- If so, when will you first reach the target rating? (point estimate + prediction interval of dates) - use number of days as outcome, then transform to date for the bot message\n",
    "\n",
    "## Notes:\n",
    "- Might want to train multiple models for various values of X between 0 and 500 (with multiples of 10 to speed up, maybe)\n",
    "- Might want to exclude certain accounts (if they stop playing on lichess or in that time control, if they are very new, if something else is weird)\n",
    "- Use cross-validation since sample size might be constrained"
   ]
  },
  {
   "cell_type": "code",
   "execution_count": null,
   "metadata": {},
   "outputs": [],
   "source": []
  }
 ],
 "metadata": {
  "kernelspec": {
   "display_name": "Python 3",
   "language": "python",
   "name": "python3"
  },
  "language_info": {
   "codemirror_mode": {
    "name": "ipython",
    "version": 3
   },
   "file_extension": ".py",
   "mimetype": "text/x-python",
   "name": "python",
   "nbconvert_exporter": "python",
   "pygments_lexer": "ipython3",
   "version": "3.8.5"
  }
 },
 "nbformat": 4,
 "nbformat_minor": 4
}
